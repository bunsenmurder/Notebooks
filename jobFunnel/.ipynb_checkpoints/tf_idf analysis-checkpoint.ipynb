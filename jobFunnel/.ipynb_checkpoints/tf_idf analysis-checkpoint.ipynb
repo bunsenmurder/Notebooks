{
 "cells": [
  {
   "cell_type": "code",
   "execution_count": null,
   "metadata": {},
   "outputs": [],
   "source": [
    "import sys\n",
    "#!{sys.executable} -m pip install --user git+https://github.com/bunsenmurder/JobFunnel.git"
   ]
  },
  {
   "cell_type": "markdown",
   "metadata": {},
   "source": [
    "This notebook is used to analyze and make improvements the tf_idf model being used within my fork of the Job Funnel application."
   ]
  },
  {
   "cell_type": "code",
   "execution_count": 134,
   "metadata": {},
   "outputs": [],
   "source": [
    "from sklearn.feature_extraction.text import TfidfVectorizer\n",
    "from sklearn.metrics.pairwise import cosine_similarity\n",
    "from pprint import pprint\n",
    "from typing import Dict, List\n",
    "from math import sqrt, exp, log\n",
    "import os\n",
    "import matplotlib.pyplot as plt\n",
    "import numpy as np\n",
    "import pandas as pd\n",
    "import sklearn\n",
    "import string\n",
    "import csv\n",
    "import pickle"
   ]
  },
  {
   "cell_type": "code",
   "execution_count": 135,
   "metadata": {},
   "outputs": [],
   "source": [
    "from scipy.special import expit\n",
    "from numpy import array, arange, around, divide, exp as ex"
   ]
  },
  {
   "cell_type": "code",
   "execution_count": 157,
   "metadata": {},
   "outputs": [],
   "source": [
    "x_i = range(0,1500000)\n",
    "j = range(0,100)\n",
    "delay = 15\n",
    "gr = sqrt(delay)*4\n",
    "y_0 = 4*delay\n",
    "def del_calc(_list, delay: int = 15) -> List[float]:\n",
    "    gr = sqrt(delay)*4\n",
    "    y_0 = 4*delay\n",
    "    if isinstance(_list, int):\n",
    "        return [delay / (1 + (y_0 * exp(-x/gr))) for x in range(_list)]\n",
    "    else:\n",
    "        return [delay / (1 + (y_0 * exp(-x/gr))) for x in _list]\n",
    "def del_calc2(x_length, delay: int = 15):\n",
    "    gr = sqrt(delay)*4\n",
    "    y_0 = log(4*delay)\n",
    "    if isinstance(_list, int):\n",
    "        return delay * expit(arange(x_length)/gr - y_0)\n",
    "    else:\n",
    "        return delay * expit(array(_list)/gr - y_0)\n",
    "\n",
    "#plt.plot(x, res)\n",
    "#plt.show()\n",
    "#print(del_calc2(len(x_i), delay))"
   ]
  },
  {
   "cell_type": "markdown",
   "metadata": {},
   "source": [
    "For this part, we will investigate and visualize the best way to implement our three delay algorthms(hard, linear, and sigmoid). Each algorithm can be paired with our random_delay function, to randomize our delay rates based on the maximum of our calculated delay distribution. So what we want to do fist is optimize our functions for best python performance."
   ]
  },
  {
   "cell_type": "markdown",
   "metadata": {},
   "source": [
    "Hard Delay:\n",
    "This is a piecewise function defined as:\n",
    "f(x) = 0; x < 1\n",
    "     = delay; x > 0"
   ]
  },
  {
   "cell_type": "code",
   "execution_count": 172,
   "metadata": {},
   "outputs": [],
   "source": [
    "def h_delay(_list, delay: int = 1):\n",
    "    if isinstance(_list, int):\n",
    "        res = [delay] * _list\n",
    "    else:\n",
    "        res = [delay] * len(_list)\n",
    "    res[0] = 0\n",
    "    return res"
   ]
  },
  {
   "cell_type": "code",
   "execution_count": 186,
   "metadata": {},
   "outputs": [
    {
     "name": "stdout",
     "output_type": "stream",
     "text": [
      "[0, 1, 2, 3, 4, 5, 6, 7, 8, 9, 10, 11, 12, 13, 14, 15, 16, 17, 18, 19, 20, 21, 22, 23, 24, 25, 26, 27, 28, 29, 30, 31, 32, 33, 34, 35, 36, 37, 38, 39, 40, 41, 42, 43, 44, 45, 46, 47, 48, 49]\n"
     ]
    }
   ],
   "source": [
    "#print(h_delay(50))\n",
    "print([*range(50)])"
   ]
  },
  {
   "cell_type": "code",
   "execution_count": 262,
   "metadata": {},
   "outputs": [],
   "source": [
    "def lin_delay(_list, delay: int = 5):\n",
    "    if (its := 5*delay) <= 1:\n",
    "        return h_delay(_list, delay)\n",
    "    else:\n",
    "        if isinstance(_list, int):\n",
    "            delays = [*range(_list)]\n",
    "        else:\n",
    "            delays = [*range(len(_list))]\n",
    "        delays[0:its] = [.2*x for x in delays[0:its]]\n",
    "        delays[its:] = [delay]*(len(delays) - its)\n",
    "        return delays"
   ]
  },
  {
   "cell_type": "code",
   "execution_count": 264,
   "metadata": {},
   "outputs": [
    {
     "name": "stdout",
     "output_type": "stream",
     "text": [
      "[0.0, 0.2, 0.4, 0.6000000000000001, 0.8, 1.0, 1.2000000000000002, 1.4000000000000001, 1.6, 1.8, 2.0, 2.2, 2.4000000000000004, 2.6, 2.8000000000000003, 3.0, 3.2, 3.4000000000000004, 3.6, 3.8000000000000003, 4.0, 4.2, 4.4, 4.6000000000000005, 4.800000000000001, 5, 5, 5, 5, 5, 5, 5, 5, 5, 5, 5, 5, 5, 5, 5, 5, 5, 5, 5, 5, 5, 5, 5, 5, 5]\n"
     ]
    }
   ],
   "source": [
    "print(lin_delay(50))"
   ]
  },
  {
   "cell_type": "code",
   "execution_count": 251,
   "metadata": {},
   "outputs": [
    {
     "name": "stdout",
     "output_type": "stream",
     "text": [
      "230 µs ± 1.08 µs per loop (mean ± std. dev. of 7 runs, 1000 loops each)\n"
     ]
    }
   ],
   "source": [
    "%timeit lin_delay(10000, delay = 10)"
   ]
  },
  {
   "cell_type": "code",
   "execution_count": 252,
   "metadata": {},
   "outputs": [
    {
     "name": "stdout",
     "output_type": "stream",
     "text": [
      "351 µs ± 1.24 µs per loop (mean ± std. dev. of 7 runs, 1000 loops each)\n"
     ]
    }
   ],
   "source": []
  },
  {
   "cell_type": "code",
   "execution_count": null,
   "metadata": {},
   "outputs": [],
   "source": [
    "%timeit [delay /(1 + (4*delay * exp(-x/(4*sqrt(delay))))) for x in x_i]"
   ]
  },
  {
   "cell_type": "code",
   "execution_count": null,
   "metadata": {},
   "outputs": [],
   "source": [
    "%timeit [delay / (1 + (y_0* exp(-x/gr))) for x in x_i]"
   ]
  },
  {
   "cell_type": "code",
   "execution_count": null,
   "metadata": {},
   "outputs": [],
   "source": [
    "%timeit del_calc(100, delay)"
   ]
  },
  {
   "cell_type": "markdown",
   "metadata": {},
   "source": [
    "Next lets see how using numpy fares"
   ]
  },
  {
   "cell_type": "code",
   "execution_count": 93,
   "metadata": {},
   "outputs": [
    {
     "name": "stdout",
     "output_type": "stream",
     "text": [
      "19.6 µs ± 228 ns per loop (mean ± std. dev. of 7 runs, 100000 loops each)\n"
     ]
    }
   ],
   "source": [
    "%timeit del_calc2(1000, delay)"
   ]
  },
  {
   "cell_type": "code",
   "execution_count": 94,
   "metadata": {},
   "outputs": [
    {
     "name": "stdout",
     "output_type": "stream",
     "text": [
      "93.3 µs ± 1.39 µs per loop (mean ± std. dev. of 7 runs, 10000 loops each)\n"
     ]
    }
   ],
   "source": [
    "%timeit del_calc3(1000, delay)"
   ]
  },
  {
   "cell_type": "code",
   "execution_count": 110,
   "metadata": {},
   "outputs": [
    {
     "name": "stdout",
     "output_type": "stream",
     "text": [
      "[0.24590164 0.26201162 0.27915705 0.29740181 0.31681331 0.33746273\n",
      " 0.35942511 0.3827795  0.40760914 0.43400157 0.46204879 0.49184735\n",
      " 0.52349848 0.5571082  0.59278738 0.6306518  0.67082221 0.7134243\n",
      " 0.7585887  0.8064509  0.85715115 0.91083431 0.96764958 1.02775031\n",
      " 1.0912936  1.15843988 1.22935244 1.30419683 1.38314015 1.46635032\n",
      " 1.55399516 1.64624136 1.74325343 1.84519242 1.9522146  2.06446996\n",
      " 2.18210067 2.30523939 2.43400744 2.56851302 2.70884919 2.85509195\n",
      " 3.00729819 3.16550369 3.32972116 3.49993832 3.67611609 3.85818693\n",
      " 4.04605337 4.23958674]\n"
     ]
    }
   ],
   "source": [
    "print(del_calc2(50, 15))"
   ]
  },
  {
   "cell_type": "code",
   "execution_count": 105,
   "metadata": {},
   "outputs": [
    {
     "name": "stdout",
     "output_type": "stream",
     "text": [
      "[0.24590163934426235, 0.26201161721471344, 0.27915705335415664, 0.29740180701767827, 0.31681331315227956, 0.33746273336259575, 0.3594251062226581, 0.3827794956768015, 0.4076091360725349, 0.4340015721477782, 0.4620487920536257, 0.49184735123133216, 0.5234984846783965, 0.5571082048339187, 0.5927873819887148, 0.6306518037827421, 0.6708222099936879, 0.7134242984497221, 0.7585886975211394, 0.806450900266078, 0.8571511549324545, 0.9108343061612214, 0.9676495809065317, 1.0277503128000873, 1.0912935984557, 1.1584398790543482, 1.2293524404903566, 1.3041968254188043, 1.3831401507480356, 1.4663503244959248, 1.5539951565025192, 1.64624135829321, 1.7432534284436068, 1.8451924211359403, 1.9522145972396465, 2.064469959213454, 2.182100673422825, 2.3052393860957743, 2.4340074420904334, 2.56851301889352, 2.7088491917675204, 2.855091949654536, 3.0072981852447307, 3.165503686424434, 3.329721160009703, 3.499938322102643, 3.6761160924211103, 3.8581869323766487, 4.046053368334733, 4.239586742212271]\n"
     ]
    }
   ],
   "source": [
    "print(del_calc3(50, 15))"
   ]
  },
  {
   "cell_type": "code",
   "execution_count": null,
   "metadata": {},
   "outputs": [],
   "source": [
    "from jobfunnel.__main__ import JobFunnel\n",
    "from jobfunnel.__main__ import Indeed\n",
    "from jobfunnel.config.parser import parse_config"
   ]
  },
  {
   "cell_type": "code",
   "execution_count": null,
   "metadata": {},
   "outputs": [],
   "source": [
    "def read_csv(path, key_by_id=True):\n",
    "    ## reads csv passed in as path\n",
    "    with open(path, 'r') as csvfile:\n",
    "        reader = csv.DictReader(csvfile)\n",
    "        if key_by_id:\n",
    "            return dict([(j['id'], j) for j in reader])\n",
    "        else:\n",
    "            return [row for row in reader]"
   ]
  },
  {
   "cell_type": "code",
   "execution_count": null,
   "metadata": {},
   "outputs": [],
   "source": [
    "max_similarity: float = 0.75\n",
    "master_py_jv: Dict[str, dict] = pickle.load(open(\"py_jv_2019-12-11.pkl\", 'rb'))\n",
    "scrape_py: Dict[str, dict] = pickle.load(open(\"py_2019-12-11.pkl\", 'rb'))\n",
    "pd.DataFrame.from_dict(master_py_jv, orient='index').head(n = 10)"
   ]
  },
  {
   "cell_type": "code",
   "execution_count": null,
   "metadata": {},
   "outputs": [],
   "source": [
    "pd.DataFrame.from_dict(scrape_py, orient='index').head(n = 10)"
   ]
  },
  {
   "cell_type": "code",
   "execution_count": null,
   "metadata": {},
   "outputs": [],
   "source": [
    "vectorizer = TfidfVectorizer(strip_accents='unicode', lowercase=True, analyzer='word')\n",
    "reference_words = [job['blurb'] for job in master_py_jv.values()]\n",
    "reference_ids = [job['id'] for job in master_py_jv.values()]\n",
    "query_words = [job['blurb'] for job in scrape_py.values()]\n",
    "query_ids = [job['id'] for job in scrape_py.values()]"
   ]
  },
  {
   "cell_type": "code",
   "execution_count": null,
   "metadata": {},
   "outputs": [],
   "source": [
    "vectorizer.fit(query_words + reference_words)\n",
    "references = vectorizer.transform(reference_words)\n",
    "similarities = cosine_similarity(\n",
    "    vectorizer.transform(query_words), references)"
   ]
  },
  {
   "cell_type": "code",
   "execution_count": null,
   "metadata": {},
   "outputs": [],
   "source": [
    "def key_comp(job_d: Dict[str, dict] , id: str):\n",
    "    job_tup = [job_d.get(id).get('title'), job_d.get(id).get('company'), id]\n",
    "    return job_tup"
   ]
  },
  {
   "cell_type": "code",
   "execution_count": null,
   "metadata": {},
   "outputs": [],
   "source": [
    "x = similarities\n",
    "x = x.tolist()\n",
    "y = np.array([key_comp(scrape_py, i) for i in query_ids], dtype='object')\n",
    "df_1 = pd.DataFrame(data = y, columns = ['job','company','id'])\n",
    "df_1"
   ]
  },
  {
   "cell_type": "code",
   "execution_count": null,
   "metadata": {},
   "outputs": [],
   "source": [
    "df_2 = pd.DataFrame(data = similarities,\n",
    "             columns = reference_ids)\n",
    "df_2"
   ]
  },
  {
   "cell_type": "code",
   "execution_count": null,
   "metadata": {},
   "outputs": [],
   "source": [
    "def df_style(val):\n",
    "    return 'font-weight: bold'\n",
    "df_c = pd.concat([df_1, df_2], axis = 1)\n",
    "df_c.style.applymap(df_style, subset = pd.IndexSlice[:, ['id']]).\\\n",
    "    applymap(df_style, subset = pd.IndexSlice[df_c.index[df_c.index == 0], :]).hide_index()"
   ]
  },
  {
   "cell_type": "code",
   "execution_count": null,
   "metadata": {},
   "outputs": [],
   "source": [
    "pprint(master_py_jv.get('214184580'))#.get('blurb')"
   ]
  },
  {
   "cell_type": "code",
   "execution_count": null,
   "metadata": {},
   "outputs": [],
   "source": [
    "pd.DataFrame.from_dict(scrape_py, orient='index').head(n = 10)"
   ]
  },
  {
   "cell_type": "code",
   "execution_count": null,
   "metadata": {},
   "outputs": [],
   "source": []
  }
 ],
 "metadata": {
  "kernelspec": {
   "display_name": "Python 3",
   "language": "python",
   "name": "python3"
  },
  "language_info": {
   "codemirror_mode": {
    "name": "ipython",
    "version": 3
   },
   "file_extension": ".py",
   "mimetype": "text/x-python",
   "name": "python",
   "nbconvert_exporter": "python",
   "pygments_lexer": "ipython3",
   "version": "3.8.0"
  }
 },
 "nbformat": 4,
 "nbformat_minor": 2
}
